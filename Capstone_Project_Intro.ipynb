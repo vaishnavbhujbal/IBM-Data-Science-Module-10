{
 "cells": [
  {
   "cell_type": "markdown",
   "metadata": {},
   "source": [
    "# A Recommender System for Groceries Contractor"
   ]
  },
  {
   "cell_type": "markdown",
   "metadata": {},
   "source": [
    "<img src = \"https://www.geo-viz.com/wp-content/themes/geoviz/js/timthumb.php?src=https://www.geo-viz.com/wp-content/uploads/2014/10/recommender-system.png&h=280&w=600\" width = 400> </a>\n",
    "\n",
    "#### Image is from this site: <https://www.geo-viz.com/blog/business-aspects-recommender-systems<>"
   ]
  },
  {
   "cell_type": "markdown",
   "metadata": {},
   "source": [
    "## Part 1: Problem Description\n",
    "### There is a groceries contractor in one of the boroughs of Toronto (Scarborough). This contractor provides places such as: Different types of Restaurants, Bakery, Breakfast Spot, Brewery and Café with fresh and high-quality groceries. The contractor wants to build a warehouse for the groceries it buys from villagers and farmers inside the borough, so that they will support more customers and also bring better \"Quality of Service\" to the old customers. \n",
    "### For example, if the warehouse is close to those old and famous restaurants, then the vegetables and other groceries would be delivered to the restaurant in the right time and there would be no delay so the restaurant cooks can start their job from the morning and the Quality of Service will be high and this contractor will gain more reputation and income.\n",
    "### The contractor should build this warehouse where it is closest to its customers in order to minimize the cost of transpotation in addition to the example above. which neighborhood (in that borough) would be a better choice for the contractor to build the warehouse in that neighborhood. Finding the right neighborhood is our mission and our recommender system will provide this contractor with a sorted list of neighborhoods in which the first elemnt of the list will be the best suggested neighborhood.\n"
   ]
  },
  {
   "cell_type": "markdown",
   "metadata": {},
   "source": [
    "## Part 2: Data We Need\n",
    "### 1- We will need geo-locational information about that specific borough and the neighborhoods in that borough. We specifically and technically mean the latitude and longitude numbers of that borough. We assume that it is \"Scarborough\" in Toronto. This is easily provided for us by the contractor, because the contractor has already made up his mind about the borough. The Postal Codes that fall into that borough (Scarborough) would also be sufficient fo us. I fact we will first find neighborhoods inside Scarborough by their corresponding Postal Codes.\n",
    "\n",
    "### 2- We will need data about different venues in different neighborhoods of that specific borough. In order to gain that information we will use \"Foursquare\" locational information. By locational information for each venue we mean basic and advanced information about that venue. For example there is a venue in one of the neighborhoods. As basic information, we can obtain its precise latitude and longitude and also its distance from the center of the neighborhood. But we are looking for advanced information such as the category of that venue and whether this venue is a popular one in its category or maybe the average price of the services of this venue. A typical request from Foursquare will provide us with  the following information:\n",
    "#### [Postal Code]\t[Neighborhood(s)]\t[Neighborhood Latitude]\t[Neighborhood Longitude]\t[Venue]\t[Venue Summary]\t[Venue Category]\t[Distance (meter)]\n",
    "#### [M1L]\t[Clairlea, Golden Mile, Oakridge]\t[43.711112]\t[-79.284577]\t[Tim Hortons]\t[This spot is popular]\t[Coffee Shop]\t[592]\n",
    "### .\n",
    "### Some Notes about \"Foursquare\": <https://foursquare.com/>\n",
    "##### Foursquare is a local search-and-discovery service mobile app which provides search results for its users (Wikipedia).\n",
    "##### Founded: New York City, New York, U.S\n",
    "##### Users: 60 million\n",
    "##### Date launched: March 11, 2009\n",
    "##### Employees: Over 200\n",
    "##### Founders: Dennis Crowley, Naveen Selvadurai\n",
    "##### Owner: Foursquare Labs, Inc."
   ]
  },
  {
   "cell_type": "markdown",
   "metadata": {},
   "source": [
    "## ----------------------------------------------------------------\n",
    "### Mohammad Ali Dastgheib - jdastgheib@gmail.com\n",
    "## ----------------------------------------------------------------\n"
   ]
  },
  {
   "cell_type": "code",
   "execution_count": null,
   "metadata": {},
   "outputs": [],
   "source": []
  }
 ],
 "metadata": {
  "kernelspec": {
   "display_name": "Python 3",
   "language": "python",
   "name": "python3"
  },
  "language_info": {
   "codemirror_mode": {
    "name": "ipython",
    "version": 3
   },
   "file_extension": ".py",
   "mimetype": "text/x-python",
   "name": "python",
   "nbconvert_exporter": "python",
   "pygments_lexer": "ipython3",
   "version": "3.6.6"
  }
 },
 "nbformat": 4,
 "nbformat_minor": 1
}
